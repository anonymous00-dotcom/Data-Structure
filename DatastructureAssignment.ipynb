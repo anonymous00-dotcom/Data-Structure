{
  "nbformat": 4,
  "nbformat_minor": 0,
  "metadata": {
    "colab": {
      "provenance": []
    },
    "kernelspec": {
      "name": "python3",
      "display_name": "Python 3"
    },
    "language_info": {
      "name": "python"
    }
  },
  "cells": [
    {
      "cell_type": "markdown",
      "source": [
        "#Data Structure"
      ],
      "metadata": {
        "id": "V6aQnpdY9Djh"
      }
    },
    {
      "cell_type": "markdown",
      "source": [
        "1. What are data structures, and why are they important?\n",
        "- Data structures are ways of organizing and storing data so it can be accessed and modified efficiently. They are important because they help manage and process large amounts of data effectively using operations like searching, sorting, inserting, and deleting."
      ],
      "metadata": {
        "id": "CR6n5PSq9L7r"
      }
    },
    {
      "cell_type": "markdown",
      "source": [
        "2. Explain the difference between mutable and immutable data types with examples\n",
        " - Mutable data types can be changed after creation.\n",
        "Example: list, dict, set.\n",
        " - Immutable data types cannot be changed after creation.\n",
        "Example: int, str, tuple"
      ],
      "metadata": {
        "id": "9BVxP_3u9QyZ"
      }
    },
    {
      "cell_type": "code",
      "source": [
        "#Mutable Data\n",
        "my_list = [1, 2, 3]\n",
        "my_list.append(4)\n",
        "my_list"
      ],
      "metadata": {
        "colab": {
          "base_uri": "https://localhost:8080/"
        },
        "id": "nzoQHBRr9VdZ",
        "outputId": "6949503a-05e9-42e7-f92e-3a4d68f61a03"
      },
      "execution_count": 2,
      "outputs": [
        {
          "output_type": "execute_result",
          "data": {
            "text/plain": [
              "[1, 2, 3, 4]"
            ]
          },
          "metadata": {},
          "execution_count": 2
        }
      ]
    },
    {
      "cell_type": "code",
      "source": [
        "#Immutable Data\n",
        "my_str = \"hello\"\n",
        "my_str[0] = \"H\""
      ],
      "metadata": {
        "colab": {
          "base_uri": "https://localhost:8080/",
          "height": 183
        },
        "id": "hM8MWYUE9ny6",
        "outputId": "dc2ff57d-627c-4cfd-dc5c-02aec3d67170"
      },
      "execution_count": 3,
      "outputs": [
        {
          "output_type": "error",
          "ename": "TypeError",
          "evalue": "'str' object does not support item assignment",
          "traceback": [
            "\u001b[0;31m---------------------------------------------------------------------------\u001b[0m",
            "\u001b[0;31mTypeError\u001b[0m                                 Traceback (most recent call last)",
            "\u001b[0;32m<ipython-input-3-caa17bcb2e1b>\u001b[0m in \u001b[0;36m<cell line: 0>\u001b[0;34m()\u001b[0m\n\u001b[1;32m      1\u001b[0m \u001b[0;31m#Immutable Data\u001b[0m\u001b[0;34m\u001b[0m\u001b[0;34m\u001b[0m\u001b[0m\n\u001b[1;32m      2\u001b[0m \u001b[0mmy_str\u001b[0m \u001b[0;34m=\u001b[0m \u001b[0;34m\"hello\"\u001b[0m\u001b[0;34m\u001b[0m\u001b[0;34m\u001b[0m\u001b[0m\n\u001b[0;32m----> 3\u001b[0;31m \u001b[0mmy_str\u001b[0m\u001b[0;34m[\u001b[0m\u001b[0;36m0\u001b[0m\u001b[0;34m]\u001b[0m \u001b[0;34m=\u001b[0m \u001b[0;34m\"H\"\u001b[0m  \u001b[0;31m# Error\u001b[0m\u001b[0;34m\u001b[0m\u001b[0;34m\u001b[0m\u001b[0m\n\u001b[0m",
            "\u001b[0;31mTypeError\u001b[0m: 'str' object does not support item assignment"
          ]
        }
      ]
    },
    {
      "cell_type": "markdown",
      "source": [
        "3. What are the main differences between lists and tuples in Python?\n",
        "-Lists are mutable , slower data structure, where we can change it's elements.\n",
        "- Tuples are immutable , faster(read-only), fixed data structure where we can't change elements."
      ],
      "metadata": {
        "id": "KKtvWdL69y6Z"
      }
    },
    {
      "cell_type": "markdown",
      "source": [
        "4. Describe how dictionaries store data.\n",
        "- Dictionaries store data in key-value pairs. Keys must be unique and immutable, while values can be any data type. Internally, they use a hash table for fast access."
      ],
      "metadata": {
        "id": "vhd9RFRM-aZJ"
      }
    },
    {
      "cell_type": "code",
      "source": [
        "student = {\"name\": \"Alice\", \"age\": 20}\n",
        "student"
      ],
      "metadata": {
        "colab": {
          "base_uri": "https://localhost:8080/"
        },
        "id": "sBBtDcfn-eBp",
        "outputId": "ab1e952e-02c8-4171-93b8-48112515322a"
      },
      "execution_count": 5,
      "outputs": [
        {
          "output_type": "execute_result",
          "data": {
            "text/plain": [
              "{'name': 'Alice', 'age': 20}"
            ]
          },
          "metadata": {},
          "execution_count": 5
        }
      ]
    },
    {
      "cell_type": "markdown",
      "source": [
        "5. Why might you use a set instead of a list in Python?\n",
        "- Sets are used when:\n",
        "\n",
        " You need to remove duplicates\n",
        "\n",
        " You want fast membership testing\n",
        "\n",
        " You don’t care about order"
      ],
      "metadata": {
        "id": "p_IvT0Jw-iR5"
      }
    },
    {
      "cell_type": "markdown",
      "source": [
        "6. What is a string in Python, and how is it different from a list?\n",
        " - A string is an immutable sequence of characters.\n",
        "A list is a mutable collection of items (can be of any type)."
      ],
      "metadata": {
        "id": "zhv-CAf--zih"
      }
    },
    {
      "cell_type": "code",
      "source": [
        "\"hello\"[0] = \"H\"  # Error (string is immutable)\n",
        "[1, 2, 3][0] = 10  # Works"
      ],
      "metadata": {
        "id": "a-CAuPXj-2jq"
      },
      "execution_count": null,
      "outputs": []
    },
    {
      "cell_type": "markdown",
      "source": [
        "7. How do tuples ensure data integrity in Python?\n",
        "- Tuples are immutable, so once created, they cannot be changed. This protects data from accidental modification, which is useful for things like coordinates, configurations, etc."
      ],
      "metadata": {
        "id": "HMR3SHYq-71p"
      }
    },
    {
      "cell_type": "markdown",
      "source": [
        "8. What is a hash table, and how does it relate to dictionaries in Python?\n",
        "- A hash table is a data structure that maps keys to values using a hash function. Python's dictionaries are implemented using hash tables, allowing fast retrieval of values by key."
      ],
      "metadata": {
        "id": "M9eJPu3T-_Yq"
      }
    },
    {
      "cell_type": "markdown",
      "source": [
        "9. Can lists contain different data types in Python?\n",
        "- Yes. Python lists can contain multiple data types:"
      ],
      "metadata": {
        "id": "6uuKWcbf_CSy"
      }
    },
    {
      "cell_type": "code",
      "source": [
        "mixed = [1, \"hello\", 3.14, True]\n",
        "mixed"
      ],
      "metadata": {
        "colab": {
          "base_uri": "https://localhost:8080/"
        },
        "id": "2v0P1JfY_HaK",
        "outputId": "d4c2963d-6d18-4983-daa6-dea3ade5b2f6"
      },
      "execution_count": 7,
      "outputs": [
        {
          "output_type": "execute_result",
          "data": {
            "text/plain": [
              "[1, 'hello', 3.14, True]"
            ]
          },
          "metadata": {},
          "execution_count": 7
        }
      ]
    },
    {
      "cell_type": "markdown",
      "source": [
        "10. Explain why strings are immutable in Python.\n",
        "- Strings are immutable because:\n",
        "\n",
        "Enhance performance (string operations reuse existing memory)\n",
        "\n",
        "Ensure safety when used as keys in dictionaries or in sets\n",
        "\n"
      ],
      "metadata": {
        "id": "gN8OEGzY_Jwq"
      }
    },
    {
      "cell_type": "markdown",
      "source": [
        "11. What advantages do dictionaries offer over lists for certain tasks?\n",
        "- Fast lookup by keys (O(1) time)\n",
        "\n",
        "  Keys make data more meaningful\n",
        "\n",
        "  Better for representing structured data like JSON\n"
      ],
      "metadata": {
        "id": "Yc5kVtzX_Q6p"
      }
    },
    {
      "cell_type": "markdown",
      "source": [
        "12. Describe a scenario where using a tuple would be preferable over a list\n",
        "- When you want to return multiple values from a function:"
      ],
      "metadata": {
        "id": "zpjg1uz9_Z9i"
      }
    },
    {
      "cell_type": "code",
      "source": [
        "def get_name_and_age():\n",
        "    return (\"Alice\", 20)  # Tuple used to protect data"
      ],
      "metadata": {
        "id": "tUq1pp72_cz6"
      },
      "execution_count": 8,
      "outputs": []
    },
    {
      "cell_type": "markdown",
      "source": [
        "13. How do sets handle duplicate values in Python?\n",
        "- Sets automatically remove duplicate values."
      ],
      "metadata": {
        "id": "2SkmYet__kky"
      }
    },
    {
      "cell_type": "code",
      "source": [
        "my_set = {1, 2, 2, 3}  # Output: {1, 2, 3}\n",
        "my_set"
      ],
      "metadata": {
        "colab": {
          "base_uri": "https://localhost:8080/"
        },
        "id": "QQ2Hhp7O_qla",
        "outputId": "5ee52272-4577-4b15-cef4-08ef1e214f03"
      },
      "execution_count": 9,
      "outputs": [
        {
          "output_type": "execute_result",
          "data": {
            "text/plain": [
              "{1, 2, 3}"
            ]
          },
          "metadata": {},
          "execution_count": 9
        }
      ]
    },
    {
      "cell_type": "markdown",
      "source": [
        "14. How does the “in” keyword work differently for lists and dictionaries?\n",
        "- In a list, in checks for values.\n",
        "\n",
        "  In a dictionary, in checks for keys."
      ],
      "metadata": {
        "id": "HqfKbpEN_tPL"
      }
    },
    {
      "cell_type": "code",
      "source": [
        "2 in [1, 2, 3]"
      ],
      "metadata": {
        "colab": {
          "base_uri": "https://localhost:8080/"
        },
        "id": "s3pZhSpRAV3D",
        "outputId": "a9c7e408-0646-43cb-a87d-eb71b9c8aaac"
      },
      "execution_count": 10,
      "outputs": [
        {
          "output_type": "execute_result",
          "data": {
            "text/plain": [
              "True"
            ]
          },
          "metadata": {},
          "execution_count": 10
        }
      ]
    },
    {
      "cell_type": "code",
      "source": [
        "\"age\" in {\"name\": \"John\", \"age\": 20}"
      ],
      "metadata": {
        "colab": {
          "base_uri": "https://localhost:8080/"
        },
        "id": "QWbdWMyaAeZC",
        "outputId": "868433e4-f3ed-4544-b3cc-0bff9c7c32b8"
      },
      "execution_count": 11,
      "outputs": [
        {
          "output_type": "execute_result",
          "data": {
            "text/plain": [
              "True"
            ]
          },
          "metadata": {},
          "execution_count": 11
        }
      ]
    },
    {
      "cell_type": "markdown",
      "source": [
        "15. Can you modify the elements of a tuple? Explain why or why not.\n",
        "- No. Tuples are immutable, so elements cannot be changed after creation."
      ],
      "metadata": {
        "id": "JB9XP7ppAgZq"
      }
    },
    {
      "cell_type": "markdown",
      "source": [
        "16. What is a nested dictionary, and give an example of its use case."
      ],
      "metadata": {
        "id": "O3byy_TCAk76"
      }
    },
    {
      "cell_type": "code",
      "source": [
        "students = {\n",
        "  \"John\": {\"age\": 20, \"grade\": \"A\"},\n",
        "  \"Alice\": {\"age\": 22, \"grade\": \"B\"}\n",
        "}\n",
        "students"
      ],
      "metadata": {
        "colab": {
          "base_uri": "https://localhost:8080/"
        },
        "id": "1ui2XiP1Amoi",
        "outputId": "270e9d8e-e83a-4312-ca15-b0e47857ed1b"
      },
      "execution_count": 13,
      "outputs": [
        {
          "output_type": "execute_result",
          "data": {
            "text/plain": [
              "{'John': {'age': 20, 'grade': 'A'}, 'Alice': {'age': 22, 'grade': 'B'}}"
            ]
          },
          "metadata": {},
          "execution_count": 13
        }
      ]
    },
    {
      "cell_type": "markdown",
      "source": [
        "17. Describe the time complexity of accessing elements in a dictionary.\n",
        "- O(1) – Constant time, due to the use of hash tables."
      ],
      "metadata": {
        "id": "pgDlfwfBAwqz"
      }
    },
    {
      "cell_type": "markdown",
      "source": [
        "18. In what situations are lists preferred over dictionaries?\n",
        "- When data has no unique identifiers (keys).\n",
        "\n",
        "  When maintaining order is important.\n",
        "\n",
        "  For small, linear data collections.\n"
      ],
      "metadata": {
        "id": "IGu7srjBAzVi"
      }
    },
    {
      "cell_type": "markdown",
      "source": [
        "19. Why are dictionaries considered unordered, and how does that affect data retrieval?\n",
        "- Until Python 3.6, dictionaries were unordered. From Python 3.7+, they preserve insertion order but are still accessed by keys, not position."
      ],
      "metadata": {
        "id": "P8MjvUcnA7B6"
      }
    },
    {
      "cell_type": "markdown",
      "source": [
        "20. Explain the difference between a list and a dictionary in terms of data retrieval.\n",
        "- List: Access by index (e.g., my_list[2])\n",
        "\n",
        "  Dictionary: Access by key (e.g., my_dict[\"name\"])"
      ],
      "metadata": {
        "id": "TR8shubwA-uz"
      }
    },
    {
      "cell_type": "markdown",
      "source": [
        "#Practical"
      ],
      "metadata": {
        "id": "05L0GKxGBQbC"
      }
    },
    {
      "cell_type": "markdown",
      "source": [
        "1. Create a string with your name and print it"
      ],
      "metadata": {
        "id": "B_M0-HZHBSsz"
      }
    },
    {
      "cell_type": "code",
      "source": [
        "name = \"Suvrodip Das\"\n",
        "print(name)\n"
      ],
      "metadata": {
        "colab": {
          "base_uri": "https://localhost:8080/"
        },
        "id": "RkImruOSBTxS",
        "outputId": "892297bb-f403-42fd-fc7c-e78d323ed22e"
      },
      "execution_count": 14,
      "outputs": [
        {
          "output_type": "stream",
          "name": "stdout",
          "text": [
            "Suvrodip Das\n"
          ]
        }
      ]
    },
    {
      "cell_type": "markdown",
      "source": [
        "2. Find the length of the string \"Hello World\"."
      ],
      "metadata": {
        "id": "KtNy8QepBXqC"
      }
    },
    {
      "cell_type": "code",
      "source": [
        "text = \"Hello world\"\n",
        "len(text)"
      ],
      "metadata": {
        "colab": {
          "base_uri": "https://localhost:8080/"
        },
        "id": "F4w7-PBIBZmb",
        "outputId": "cfa2a552-af84-428f-96dc-a1ac458e7a54"
      },
      "execution_count": 15,
      "outputs": [
        {
          "output_type": "execute_result",
          "data": {
            "text/plain": [
              "11"
            ]
          },
          "metadata": {},
          "execution_count": 15
        }
      ]
    },
    {
      "cell_type": "markdown",
      "source": [
        "3. Slice the first 3 characters from the string \"Python Programming\"."
      ],
      "metadata": {
        "id": "kWbP2zYWBeeS"
      }
    },
    {
      "cell_type": "code",
      "source": [
        "text = \"Python Programming\"\n",
        "print(text[:3])"
      ],
      "metadata": {
        "colab": {
          "base_uri": "https://localhost:8080/"
        },
        "id": "jmkWuPZFBirD",
        "outputId": "99c8dd01-6f28-424e-d5bf-93bd694962e7"
      },
      "execution_count": 18,
      "outputs": [
        {
          "output_type": "stream",
          "name": "stdout",
          "text": [
            "Pyt\n"
          ]
        }
      ]
    },
    {
      "cell_type": "markdown",
      "source": [
        "4. Convert the string \"hello\" to uppercase."
      ],
      "metadata": {
        "id": "LbRluuEiCFRz"
      }
    },
    {
      "cell_type": "code",
      "source": [
        "text = \"hello\"\n",
        "print(text.upper())"
      ],
      "metadata": {
        "colab": {
          "base_uri": "https://localhost:8080/"
        },
        "id": "RN_XmYuNCHkz",
        "outputId": "a61ab9b6-ddea-4786-886f-735655d0e72b"
      },
      "execution_count": 20,
      "outputs": [
        {
          "output_type": "stream",
          "name": "stdout",
          "text": [
            "HELLO\n"
          ]
        }
      ]
    },
    {
      "cell_type": "markdown",
      "source": [
        "5. Replace \"apple\" with \"orange\" in \"I like apple\"."
      ],
      "metadata": {
        "id": "90JpYgWtCUXj"
      }
    },
    {
      "cell_type": "code",
      "source": [],
      "metadata": {
        "id": "FZ9B_9yADG5L"
      },
      "execution_count": null,
      "outputs": []
    },
    {
      "cell_type": "code",
      "source": [
        "text =  \"I like apple\"\n",
        "print(text.replace(\"apple\",\"orange\"))"
      ],
      "metadata": {
        "colab": {
          "base_uri": "https://localhost:8080/"
        },
        "id": "qg7xjgfUCYsz",
        "outputId": "19a8109d-c073-4a94-eceb-aa678904c023"
      },
      "execution_count": 21,
      "outputs": [
        {
          "output_type": "stream",
          "name": "stdout",
          "text": [
            "I like orange\n"
          ]
        }
      ]
    },
    {
      "cell_type": "markdown",
      "source": [
        "6. Create a list with numbers 1 to 5 and print it."
      ],
      "metadata": {
        "id": "kgWIj1UFCnUL"
      }
    },
    {
      "cell_type": "code",
      "source": [
        "list1 = [1,2,3,4,5]\n",
        "print(list1)"
      ],
      "metadata": {
        "colab": {
          "base_uri": "https://localhost:8080/"
        },
        "id": "fbK-OJrrC2LK",
        "outputId": "ea14dcf2-e29c-4b63-ed91-e5a290271f24"
      },
      "execution_count": 23,
      "outputs": [
        {
          "output_type": "stream",
          "name": "stdout",
          "text": [
            "[1, 2, 3, 4, 5]\n"
          ]
        }
      ]
    },
    {
      "cell_type": "markdown",
      "source": [
        "7. Append 10 to the list [1, 2, 3, 4]."
      ],
      "metadata": {
        "id": "Mxi9B7RrCPlr"
      }
    },
    {
      "cell_type": "code",
      "source": [
        "list2 = [1,2,3,4]\n",
        "list2.append(10)\n",
        "print(list2)"
      ],
      "metadata": {
        "colab": {
          "base_uri": "https://localhost:8080/"
        },
        "id": "rU4M3zsVC7h7",
        "outputId": "aae26569-610b-4af4-a6b9-0b3327e9053f"
      },
      "execution_count": 25,
      "outputs": [
        {
          "output_type": "stream",
          "name": "stdout",
          "text": [
            "[1, 2, 3, 4, 10]\n"
          ]
        }
      ]
    },
    {
      "cell_type": "markdown",
      "source": [
        "8. Remove 3 from the list [1, 2, 3, 4, 5]."
      ],
      "metadata": {
        "id": "pCpM-CprDDdV"
      }
    },
    {
      "cell_type": "code",
      "source": [
        "my_list = [1, 2, 3, 4, 5]\n",
        "my_list.remove(3)\n",
        "print(my_list)"
      ],
      "metadata": {
        "colab": {
          "base_uri": "https://localhost:8080/"
        },
        "id": "aJlulVreDH7T",
        "outputId": "8569aa5f-617a-47f8-daf1-e16c4bdd0e55"
      },
      "execution_count": 26,
      "outputs": [
        {
          "output_type": "stream",
          "name": "stdout",
          "text": [
            "[1, 2, 4, 5]\n"
          ]
        }
      ]
    },
    {
      "cell_type": "markdown",
      "source": [
        "9. Access the second element in ['a', 'b', 'c', 'd']."
      ],
      "metadata": {
        "id": "jdIbY4oZDLML"
      }
    },
    {
      "cell_type": "code",
      "source": [
        "my_list = ['a', 'b', 'c', 'd']\n",
        "print(my_list[1])\n"
      ],
      "metadata": {
        "colab": {
          "base_uri": "https://localhost:8080/"
        },
        "id": "xW4T47XKDOGE",
        "outputId": "f07bee4d-1c32-465d-c22f-0f40877d4ab0"
      },
      "execution_count": 27,
      "outputs": [
        {
          "output_type": "stream",
          "name": "stdout",
          "text": [
            "b\n"
          ]
        }
      ]
    },
    {
      "cell_type": "markdown",
      "source": [
        "10. Reverse the list [10, 20, 30, 40, 50].[link text](https://)"
      ],
      "metadata": {
        "id": "f2DvaIjnDQYD"
      }
    },
    {
      "cell_type": "code",
      "source": [
        "list3 = [10, 20, 30, 40, 50]\n",
        "print(list3[::-1])"
      ],
      "metadata": {
        "colab": {
          "base_uri": "https://localhost:8080/"
        },
        "id": "gsFpAGmhDR3j",
        "outputId": "7ea71622-7b69-4ba1-d72a-5e72541b4db0"
      },
      "execution_count": 28,
      "outputs": [
        {
          "output_type": "stream",
          "name": "stdout",
          "text": [
            "[50, 40, 30, 20, 10]\n"
          ]
        }
      ]
    },
    {
      "cell_type": "markdown",
      "source": [
        "11. Create a tuple (100, 200, 300) and print it"
      ],
      "metadata": {
        "id": "_26mGeSaDegL"
      }
    },
    {
      "cell_type": "code",
      "source": [
        "tup1 = (100, 200, 300)\n",
        "print(tup1)"
      ],
      "metadata": {
        "colab": {
          "base_uri": "https://localhost:8080/"
        },
        "id": "RUGpzstdDgLb",
        "outputId": "35b98036-06e2-4a2f-ab70-997ecbc74d16"
      },
      "execution_count": 29,
      "outputs": [
        {
          "output_type": "stream",
          "name": "stdout",
          "text": [
            "(100, 200, 300)\n"
          ]
        }
      ]
    },
    {
      "cell_type": "markdown",
      "source": [
        "12. Access second-to-last element of ('red', 'green', 'blue', 'yellow')"
      ],
      "metadata": {
        "id": "oSJ1gPn9Drnj"
      }
    },
    {
      "cell_type": "code",
      "source": [
        "tup2 = ('red', 'green', 'blue', 'yellow')\n",
        "print(tup2[-2])"
      ],
      "metadata": {
        "colab": {
          "base_uri": "https://localhost:8080/"
        },
        "id": "LCQzk4EbDuWj",
        "outputId": "aa72b793-1879-421c-912b-233c5942ca57"
      },
      "execution_count": 30,
      "outputs": [
        {
          "output_type": "stream",
          "name": "stdout",
          "text": [
            "blue\n"
          ]
        }
      ]
    },
    {
      "cell_type": "markdown",
      "source": [
        "13. Find minimum number in (10, 20, 5, 15)."
      ],
      "metadata": {
        "id": "OkBIV5hvD73j"
      }
    },
    {
      "cell_type": "code",
      "source": [
        "number = (10, 20, 5, 15)\n",
        "print(min(number))"
      ],
      "metadata": {
        "colab": {
          "base_uri": "https://localhost:8080/"
        },
        "id": "VYM-MN8cD9rE",
        "outputId": "d19039c9-a7a6-455a-b4f7-ac223b951404"
      },
      "execution_count": 33,
      "outputs": [
        {
          "output_type": "stream",
          "name": "stdout",
          "text": [
            "5\n"
          ]
        }
      ]
    },
    {
      "cell_type": "markdown",
      "source": [
        "14. Find index of \"cat\" in ('dog', 'cat', 'rabbit')."
      ],
      "metadata": {
        "id": "flZvm4PEEMrz"
      }
    },
    {
      "cell_type": "code",
      "source": [
        "animal = ('dog', 'cat', 'rabbit')\n",
        "print(animal.index(\"cat\"))"
      ],
      "metadata": {
        "colab": {
          "base_uri": "https://localhost:8080/"
        },
        "id": "eXTAKKl8EOVr",
        "outputId": "aa9f8475-1997-4810-839c-2e7530495c4d"
      },
      "execution_count": 34,
      "outputs": [
        {
          "output_type": "stream",
          "name": "stdout",
          "text": [
            "1\n"
          ]
        }
      ]
    },
    {
      "cell_type": "markdown",
      "source": [
        "15. Create a fruit tuple and check if \"kiwi\" is in it."
      ],
      "metadata": {
        "id": "zj1R8FEwEaBU"
      }
    },
    {
      "cell_type": "code",
      "source": [
        "fruit = (\"Mango\",\"Orange\",\"Guava\",\"kiwi\",\"Apple\")\n",
        "\"kiwi\" in fruit"
      ],
      "metadata": {
        "colab": {
          "base_uri": "https://localhost:8080/"
        },
        "id": "M9805uHREcd8",
        "outputId": "8fb88ddc-e05e-4df5-bf74-af4f7242fab5"
      },
      "execution_count": 35,
      "outputs": [
        {
          "output_type": "execute_result",
          "data": {
            "text/plain": [
              "True"
            ]
          },
          "metadata": {},
          "execution_count": 35
        }
      ]
    },
    {
      "cell_type": "markdown",
      "source": [
        "16. Create a set with 'a', 'b', 'c' and print it."
      ],
      "metadata": {
        "id": "lNh5MfXLEp3U"
      }
    },
    {
      "cell_type": "code",
      "source": [
        "set1 = {'a','b','c'}\n",
        "print(set1)"
      ],
      "metadata": {
        "colab": {
          "base_uri": "https://localhost:8080/"
        },
        "id": "VvcvqPsfErWE",
        "outputId": "8b13aad7-2063-4666-fdba-1b9c0a22c8bc"
      },
      "execution_count": 39,
      "outputs": [
        {
          "output_type": "stream",
          "name": "stdout",
          "text": [
            "{'a', 'b', 'c'}\n"
          ]
        }
      ]
    },
    {
      "cell_type": "markdown",
      "source": [
        "17. Clear all elements from set {1, 2, 3, 4, 5}."
      ],
      "metadata": {
        "id": "3JKkkc3cE-K0"
      }
    },
    {
      "cell_type": "code",
      "source": [
        "set2 = {1, 2, 3, 4, 5}\n",
        "print(set2.clear())"
      ],
      "metadata": {
        "colab": {
          "base_uri": "https://localhost:8080/"
        },
        "id": "d3ehp9zBFCGk",
        "outputId": "829a4cc3-6ba4-403e-ed34-2a27995c55c4"
      },
      "execution_count": 41,
      "outputs": [
        {
          "output_type": "stream",
          "name": "stdout",
          "text": [
            "None\n"
          ]
        }
      ]
    },
    {
      "cell_type": "markdown",
      "source": [
        "18. Remove 4 from the set {1, 2, 3, 4}."
      ],
      "metadata": {
        "id": "pKhkc6taFWMs"
      }
    },
    {
      "cell_type": "code",
      "source": [
        "my_set = {1, 2, 3, 4}\n",
        "my_set.remove(4)\n",
        "print(my_set)"
      ],
      "metadata": {
        "colab": {
          "base_uri": "https://localhost:8080/"
        },
        "id": "IoYgYacOFYG8",
        "outputId": "231ee1ad-f4d8-43e5-abc6-d22c69defa02"
      },
      "execution_count": 42,
      "outputs": [
        {
          "output_type": "stream",
          "name": "stdout",
          "text": [
            "{1, 2, 3}\n"
          ]
        }
      ]
    },
    {
      "cell_type": "markdown",
      "source": [
        "19. Union of sets {1, 2, 3} and {3, 4, 5}."
      ],
      "metadata": {
        "id": "AHQHtO_oFcFM"
      }
    },
    {
      "cell_type": "code",
      "source": [
        "a = {1, 2, 3}\n",
        "b = {3, 4, 5}\n",
        "print(a.union(b))"
      ],
      "metadata": {
        "colab": {
          "base_uri": "https://localhost:8080/"
        },
        "id": "kaRc84hvFeKc",
        "outputId": "adfb7d62-63db-4450-cb68-3732e2efeb72"
      },
      "execution_count": 43,
      "outputs": [
        {
          "output_type": "stream",
          "name": "stdout",
          "text": [
            "{1, 2, 3, 4, 5}\n"
          ]
        }
      ]
    },
    {
      "cell_type": "code",
      "source": [
        "a = {1, 2, 3}\n",
        "b = {3, 4, 5}\n",
        "a | b"
      ],
      "metadata": {
        "colab": {
          "base_uri": "https://localhost:8080/"
        },
        "id": "V5cMR4SjFgbk",
        "outputId": "1ebd041a-7b42-45a9-fa5b-2c8ec61ada5a"
      },
      "execution_count": 44,
      "outputs": [
        {
          "output_type": "execute_result",
          "data": {
            "text/plain": [
              "{1, 2, 3, 4, 5}"
            ]
          },
          "metadata": {},
          "execution_count": 44
        }
      ]
    },
    {
      "cell_type": "markdown",
      "source": [
        "20. Intersection of sets {1, 2, 3} and {2, 3, 4}."
      ],
      "metadata": {
        "id": "qHh6kwv1FkU0"
      }
    },
    {
      "cell_type": "code",
      "source": [
        "a = {1, 2, 3}\n",
        "b = {2, 3, 4}\n",
        "print(a.intersection(b))"
      ],
      "metadata": {
        "colab": {
          "base_uri": "https://localhost:8080/"
        },
        "id": "mQLPUAGUFmr-",
        "outputId": "e418c47d-e2c1-4dee-963a-f4e8fceb9419"
      },
      "execution_count": 45,
      "outputs": [
        {
          "output_type": "stream",
          "name": "stdout",
          "text": [
            "{2, 3}\n"
          ]
        }
      ]
    },
    {
      "cell_type": "code",
      "source": [
        "a = {1, 2, 3}\n",
        "b = {2, 3, 4}\n",
        "a & b"
      ],
      "metadata": {
        "colab": {
          "base_uri": "https://localhost:8080/"
        },
        "id": "U4PjHwo6Fpsk",
        "outputId": "b287332f-3f67-4ed2-9f4f-93ee22f5ac3b"
      },
      "execution_count": 46,
      "outputs": [
        {
          "output_type": "execute_result",
          "data": {
            "text/plain": [
              "{2, 3}"
            ]
          },
          "metadata": {},
          "execution_count": 46
        }
      ]
    },
    {
      "cell_type": "markdown",
      "source": [
        "21. Create dictionary with \"name\", \"age\", \"city\" and print it."
      ],
      "metadata": {
        "id": "gcsU0JT0Ftls"
      }
    },
    {
      "cell_type": "code",
      "source": [
        "person = {\"name\": \"John\", \"age\": 25, \"city\": \"New York\"}\n",
        "print(person)"
      ],
      "metadata": {
        "colab": {
          "base_uri": "https://localhost:8080/"
        },
        "id": "jgwgKi6WFu7F",
        "outputId": "1f654742-af47-48d7-ef62-bee9ca97350a"
      },
      "execution_count": 47,
      "outputs": [
        {
          "output_type": "stream",
          "name": "stdout",
          "text": [
            "{'name': 'John', 'age': 25, 'city': 'New York'}\n"
          ]
        }
      ]
    },
    {
      "cell_type": "markdown",
      "source": [
        "22. Add \"country\": \"USA\" to {'name': 'John', 'age': 25}"
      ],
      "metadata": {
        "id": "yjTF-UEGFx7M"
      }
    },
    {
      "cell_type": "code",
      "source": [
        "person = {'name': 'John', 'age': 25}\n",
        "person[\"country\"] = \"USA\"\n",
        "print(person)"
      ],
      "metadata": {
        "colab": {
          "base_uri": "https://localhost:8080/"
        },
        "id": "U5oitF7VFzRN",
        "outputId": "affcedb1-1d53-445a-bf5a-e68136400906"
      },
      "execution_count": 48,
      "outputs": [
        {
          "output_type": "stream",
          "name": "stdout",
          "text": [
            "{'name': 'John', 'age': 25, 'country': 'USA'}\n"
          ]
        }
      ]
    },
    {
      "cell_type": "markdown",
      "source": [
        "23. Access value of key \"name\" in {'name': 'Alice', 'age': 30}."
      ],
      "metadata": {
        "id": "r6orne6mF4m0"
      }
    },
    {
      "cell_type": "code",
      "source": [
        "person = {'name': 'Alice', 'age': 30}\n",
        "print(person[\"name\"])"
      ],
      "metadata": {
        "colab": {
          "base_uri": "https://localhost:8080/"
        },
        "id": "ULeQx1pXF7U8",
        "outputId": "eed2bb56-be95-4ea4-d2de-36ede56e081f"
      },
      "execution_count": 49,
      "outputs": [
        {
          "output_type": "stream",
          "name": "stdout",
          "text": [
            "Alice\n"
          ]
        }
      ]
    },
    {
      "cell_type": "markdown",
      "source": [
        "24. Remove \"age\" from {'name': 'Bob', 'age': 22, 'city': 'New York'}."
      ],
      "metadata": {
        "id": "RmE4BD00F8WE"
      }
    },
    {
      "cell_type": "code",
      "source": [
        "person = {'name': 'Bob', 'age': 22, 'city': 'New York'}\n",
        "del person[\"age\"]\n",
        "print(person)"
      ],
      "metadata": {
        "colab": {
          "base_uri": "https://localhost:8080/"
        },
        "id": "Jc474hKiF968",
        "outputId": "896d69c8-4ff8-48b5-f1b1-3ccf4cd9ea8f"
      },
      "execution_count": 50,
      "outputs": [
        {
          "output_type": "stream",
          "name": "stdout",
          "text": [
            "{'name': 'Bob', 'city': 'New York'}\n"
          ]
        }
      ]
    },
    {
      "cell_type": "markdown",
      "source": [
        "25. Check if \"city\" exists in {'name': 'Alice', 'city': 'Paris'}."
      ],
      "metadata": {
        "id": "XynyxFM3GAcU"
      }
    },
    {
      "cell_type": "code",
      "source": [
        "person = {'name': 'Alice', 'city': 'Paris'}\n",
        "print(\"city\" in person)"
      ],
      "metadata": {
        "colab": {
          "base_uri": "https://localhost:8080/"
        },
        "id": "74OvU2bXGDn1",
        "outputId": "862a0755-b591-403d-ab00-80b4072a7f17"
      },
      "execution_count": 51,
      "outputs": [
        {
          "output_type": "stream",
          "name": "stdout",
          "text": [
            "True\n"
          ]
        }
      ]
    },
    {
      "cell_type": "markdown",
      "source": [
        "26. Create a list, tuple, and dictionary, and print them."
      ],
      "metadata": {
        "id": "hpx5-3gGGHMU"
      }
    },
    {
      "cell_type": "code",
      "source": [
        "my_list = [1, 2, 3]\n",
        "my_tuple = (4, 5, 6)\n",
        "my_dict = {\"a\": 1, \"b\": 2}\n",
        "print(my_list)\n",
        "print(my_tuple)\n",
        "print(my_dict)"
      ],
      "metadata": {
        "colab": {
          "base_uri": "https://localhost:8080/"
        },
        "id": "SE8visDaGJWc",
        "outputId": "6ffc8627-250d-48a5-9ba4-6144c31aba9b"
      },
      "execution_count": 52,
      "outputs": [
        {
          "output_type": "stream",
          "name": "stdout",
          "text": [
            "[1, 2, 3]\n",
            "(4, 5, 6)\n",
            "{'a': 1, 'b': 2}\n"
          ]
        }
      ]
    },
    {
      "cell_type": "markdown",
      "source": [
        "27. Create list of 5 random numbers between 1–100, sort, and print."
      ],
      "metadata": {
        "id": "_KfSJnQBGURU"
      }
    },
    {
      "cell_type": "code",
      "source": [
        "import random\n",
        "numbers = random.sample(range(1, 101), 5)\n",
        "numbers.sort()\n",
        "print(numbers)"
      ],
      "metadata": {
        "colab": {
          "base_uri": "https://localhost:8080/"
        },
        "id": "CEdyfM4SGXb9",
        "outputId": "0f743ee3-bb6c-45ac-dd9f-340e7bd80780"
      },
      "execution_count": 54,
      "outputs": [
        {
          "output_type": "stream",
          "name": "stdout",
          "text": [
            "[17, 33, 47, 61, 67]\n"
          ]
        }
      ]
    },
    {
      "cell_type": "markdown",
      "source": [
        "28. Create list with strings and print element at third index."
      ],
      "metadata": {
        "id": "dFNvmcMCGiJk"
      }
    },
    {
      "cell_type": "code",
      "source": [
        "words = [\"one\", \"two\", \"three\", \"four\", \"five\"]\n",
        "print(words[3])"
      ],
      "metadata": {
        "colab": {
          "base_uri": "https://localhost:8080/"
        },
        "id": "LkQM9x3aGjwE",
        "outputId": "20e8cabc-2b73-4786-d227-eb08ed8adc2a"
      },
      "execution_count": 55,
      "outputs": [
        {
          "output_type": "stream",
          "name": "stdout",
          "text": [
            "four\n"
          ]
        }
      ]
    },
    {
      "cell_type": "markdown",
      "source": [
        "29. Combine two dictionaries and print result."
      ],
      "metadata": {
        "id": "8z6oGNwUGoIN"
      }
    },
    {
      "cell_type": "code",
      "source": [
        "dict1 = {\"a\": 1, \"b\": 2}\n",
        "dict2 = {\"c\": 3, \"d\": 4}\n",
        "combined = {**dict1, **dict2}\n",
        "print(combined)"
      ],
      "metadata": {
        "colab": {
          "base_uri": "https://localhost:8080/"
        },
        "id": "CC7g5oQUGp-l",
        "outputId": "c6050458-0720-4854-8b11-56424453effd"
      },
      "execution_count": 56,
      "outputs": [
        {
          "output_type": "stream",
          "name": "stdout",
          "text": [
            "{'a': 1, 'b': 2, 'c': 3, 'd': 4}\n"
          ]
        }
      ]
    },
    {
      "cell_type": "markdown",
      "source": [
        "30. Convert list of strings to a set."
      ],
      "metadata": {
        "id": "ZlDWkawnG_WR"
      }
    },
    {
      "cell_type": "code",
      "source": [
        "words = [\"apple\", \"banana\", \"apple\", \"cherry\"]\n",
        "unique_words = set(words)\n",
        "print(unique_words)"
      ],
      "metadata": {
        "colab": {
          "base_uri": "https://localhost:8080/"
        },
        "id": "TPirIrx3HCYt",
        "outputId": "d96f8798-d001-45f3-ed77-1a30930450a3"
      },
      "execution_count": 58,
      "outputs": [
        {
          "output_type": "stream",
          "name": "stdout",
          "text": [
            "{'apple', 'cherry', 'banana'}\n"
          ]
        }
      ]
    }
  ]
}